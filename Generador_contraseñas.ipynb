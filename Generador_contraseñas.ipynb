{
 "cells": [
  {
   "cell_type": "code",
   "execution_count": 17,
   "id": "933926db",
   "metadata": {},
   "outputs": [
    {
     "name": "stdout",
     "output_type": "stream",
     "text": [
      "['$2b$12$MovWnLaSe/CqxIqWg4amKODPJmHxGygKR7z52MlXEtel2a5GNkBpS', '$2b$12$7aNZ3/x1f7v7mLXZ4/xekuGbAt1Wo2AIeLOylRoHvR30YyaoBsdo2']\n"
     ]
    }
   ],
   "source": [
    "import streamlit_authenticator as stauth\n",
    "\n",
    "passwords = ['luis123', 'demopass']\n",
    "\n",
    "hasher = stauth.Hasher()\n",
    "\n",
    "hashed_passwords = [hasher.hash(p) for p in passwords]\n",
    "\n",
    "print(hashed_passwords)\n"
   ]
  }
 ],
 "metadata": {
  "kernelspec": {
   "display_name": "Python 3",
   "language": "python",
   "name": "python3"
  },
  "language_info": {
   "codemirror_mode": {
    "name": "ipython",
    "version": 3
   },
   "file_extension": ".py",
   "mimetype": "text/x-python",
   "name": "python",
   "nbconvert_exporter": "python",
   "pygments_lexer": "ipython3",
   "version": "3.9.13"
  }
 },
 "nbformat": 4,
 "nbformat_minor": 5
}
