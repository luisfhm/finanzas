{
 "cells": [
  {
   "cell_type": "code",
   "execution_count": 15,
   "id": "933926db",
   "metadata": {},
   "outputs": [
    {
     "name": "stdout",
     "output_type": "stream",
     "text": [
      "['$2b$12$8pTNGzB0XQTCM6MLeaw8vuCrZoBxmZ3l7LEGljVpPeAZpSSKl7ZXq', '$2b$12$2pMERkAgRfuAH9WKwFJSueZ3iT3I.PbuJMok1D4YOf1PBcwWoGe06']\n"
     ]
    }
   ],
   "source": [
    "import streamlit_authenticator as stauth\n",
    "\n",
    "passwords = ['password123', 'mypassword']\n",
    "\n",
    "hasher = stauth.Hasher()\n",
    "\n",
    "hashed_passwords = [hasher.hash(p) for p in passwords]\n",
    "\n",
    "print(hashed_passwords)\n"
   ]
  },
  {
   "cell_type": "code",
   "execution_count": 16,
   "id": "93f4ba1f",
   "metadata": {},
   "outputs": [
    {
     "name": "stderr",
     "output_type": "stream",
     "text": [
      "2025-06-01 18:49:39.074 WARNING streamlit.runtime.scriptrunner_utils.script_run_context: Thread 'MainThread': missing ScriptRunContext! This warning can be ignored when running in bare mode.\n",
      "2025-06-01 18:49:39.236 \n",
      "  \u001b[33m\u001b[1mWarning:\u001b[0m to view this Streamlit app on a browser, run it with the following\n",
      "  command:\n",
      "\n",
      "    streamlit run C:\\Users\\Luis\\AppData\\Local\\Packages\\PythonSoftwareFoundation.Python.3.9_qbz5n2kfra8p0\\LocalCache\\local-packages\\Python39\\site-packages\\ipykernel_launcher.py [ARGUMENTS]\n",
      "2025-06-01 18:49:39.236 Thread 'MainThread': missing ScriptRunContext! This warning can be ignored when running in bare mode.\n"
     ]
    }
   ],
   "source": [
    "import streamlit as st\n",
    "st.write(st.__version__)\n"
   ]
  }
 ],
 "metadata": {
  "kernelspec": {
   "display_name": "Python 3",
   "language": "python",
   "name": "python3"
  },
  "language_info": {
   "codemirror_mode": {
    "name": "ipython",
    "version": 3
   },
   "file_extension": ".py",
   "mimetype": "text/x-python",
   "name": "python",
   "nbconvert_exporter": "python",
   "pygments_lexer": "ipython3",
   "version": "3.9.13"
  }
 },
 "nbformat": 4,
 "nbformat_minor": 5
}
